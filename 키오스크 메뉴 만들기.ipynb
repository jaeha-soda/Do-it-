{
 "cells": [
  {
   "cell_type": "markdown",
   "id": "8435ee34",
   "metadata": {},
   "source": [
    "1. 코드 작성 제약 조건 분석\n",
    "- 시나리오 중 코드에 작성되어야 조건 분석하여 정리"
   ]
  },
  {
   "cell_type": "code",
   "execution_count": 4,
   "id": "48f1a0c0",
   "metadata": {},
   "outputs": [],
   "source": [
    "# 초기화\n",
    "menu = {'자장면': 5000, '짬뽕': 6000, '볶음밥' : 6000, '탕수육' :10000}"
   ]
  },
  {
   "cell_type": "markdown",
   "id": "d17b64bd",
   "metadata": {},
   "source": [
    "#### 관리자 모드"
   ]
  },
  {
   "cell_type": "code",
   "execution_count": 5,
   "id": "92f5ae31",
   "metadata": {},
   "outputs": [],
   "source": [
    "# 관리자 모드\n",
    "\n",
    "def admin_mode():\n",
    "    global menu\n",
    "    password = int(input(\"비밀번호를 입력하세요(4자리수) : \" ))\n",
    "    login_num = 1234\n",
    "    if password == login_num:\n",
    "        print('로그인 성공')\n",
    "    else:\n",
    "        print('로그인 실패')\n",
    "        return(0)\n",
    "\n",
    "    while True:\n",
    "        menu_modify = input(\"메뉴를 추가/삭제/수정 하시겠습니까? (1. 추가 2. 삭제 3. 수정 4. 나가기): \" )\n",
    "\n",
    "        if menu_modify == '1':\n",
    "            new_menu = input('추가할 메뉴 : ')\n",
    "            new_menu_price = int(input('추가할 메뉴의 가격(숫자만 입력하세요.) : '))\n",
    "            menu[new_menu] = new_menu_price\n",
    "            print(menu)\n",
    "\n",
    "        elif menu_modify  == '2':\n",
    "            del_menu = input('삭제할 메뉴 : ')\n",
    "            del menu[del_menu]\n",
    "            print(menu)\n",
    "\n",
    "        elif menu_modify == \"3\":\n",
    "            mod_menu = input('수정할 메뉴(원래 메뉴와 똑같이 입력) : ')\n",
    "            mod_price = int(input('수정할 메뉴의 수정 가격을 입력해주세요 : '))\n",
    "            menu[mod_menu] = mod_price\n",
    "            print(menu)\n",
    "        \n",
    "        elif menu_modify == \"4\":\n",
    "            break\n",
    "        \n",
    "        else:\n",
    "            print(\"입력 오류\")\n"
   ]
  },
  {
   "cell_type": "code",
   "execution_count": 6,
   "id": "83f316b2",
   "metadata": {},
   "outputs": [
    {
     "name": "stdout",
     "output_type": "stream",
     "text": [
      "비밀번호를 입력하세요(4자리수) : 1234\n",
      "로그인 성공\n",
      "메뉴를 추가/삭제/수정 하시겠습니까? (1. 추가 2. 삭제 3. 수정 4. 나가기): 4\n"
     ]
    }
   ],
   "source": [
    "admin_mode()"
   ]
  },
  {
   "cell_type": "markdown",
   "id": "cb721a22",
   "metadata": {},
   "source": [
    "#### 주문 시 "
   ]
  },
  {
   "cell_type": "code",
   "execution_count": 7,
   "id": "615206a7",
   "metadata": {},
   "outputs": [],
   "source": [
    "def order_mode():\n",
    "    global order_list, menu\n",
    "    print('Menu : ', menu)\n",
    "\n",
    "    order_list = {}\n",
    "    table_num = int(input('테이블 번호를 입력해주세요.(ex : 1 ) : '))\n",
    "\n",
    "    order = input('메뉴에서 주문 : ')\n",
    "    number =  int(input('수량을 입력해주세요:'))\n",
    "    order_list[order] =  order_list.get(order,0) + menu[order]*number\n",
    "    print(order_list)\n",
    "\n",
    "    while True:\n",
    "        menu_modify = input(\"메뉴를 추가/수정/선택종료 하시겠습니까? (1. 추가 2. 수정, 3. 선택종료) : \" ) \n",
    "\n",
    "        if menu_modify == '1':\n",
    "            order = input('메뉴에서 주문 : ')\n",
    "            number =  int(input('수량을 입력해주세요:'))\n",
    "            order_list[order] =  order_list.get(order,0) + menu[order]*number\n",
    "            print(order_list)\n",
    "\n",
    "        elif menu_modify  == '2':\n",
    "            del_menu = input('수정할 메뉴 : ')\n",
    "            number =  int(input('수량을 입력해주세요:'))\n",
    "            order_list[del_menu] =  order_list.get(del_menu,'python') - menu[del_menu]*number\n",
    "            \n",
    "        elif menu_modify == \"3\":\n",
    "            print(\"최종메뉴: \", order_list)\n",
    "            print(\"조금만 기다려주시면 준비 해드리겠습니다.\")\n",
    "            break\n",
    "        else:\n",
    "            print(\"입력오류\")\n",
    "            "
   ]
  },
  {
   "cell_type": "code",
   "execution_count": 8,
   "id": "43e8eee9",
   "metadata": {},
   "outputs": [
    {
     "name": "stdout",
     "output_type": "stream",
     "text": [
      "Menu :  {'자장면': 5000, '짬뽕': 6000, '볶음밥': 6000, '탕수육': 10000}\n",
      "테이블 번호를 입력해주세요.(ex : 1 ) : 1\n",
      "메뉴에서 주문 : 자장면\n",
      "수량을 입력해주세요:1\n",
      "{'자장면': 5000}\n",
      "메뉴를 추가/수정/선택종료 하시겠습니까? (1. 추가 2. 수정, 3. 선택종료) : 1\n",
      "메뉴에서 주문 : 짬뽕\n",
      "수량을 입력해주세요:1\n",
      "{'자장면': 5000, '짬뽕': 6000}\n",
      "메뉴를 추가/수정/선택종료 하시겠습니까? (1. 추가 2. 수정, 3. 선택종료) : 3\n",
      "최종메뉴:  {'자장면': 5000, '짬뽕': 6000}\n",
      "조금만 기다려주시면 준비 해드리겠습니다.\n"
     ]
    }
   ],
   "source": [
    "order_mode()"
   ]
  },
  {
   "cell_type": "markdown",
   "id": "6a4d3f02",
   "metadata": {},
   "source": [
    "### order_list"
   ]
  },
  {
   "cell_type": "markdown",
   "id": "830ed9fd",
   "metadata": {},
   "source": [
    "####  결제 시"
   ]
  },
  {
   "cell_type": "code",
   "execution_count": 9,
   "id": "9f68f5b3",
   "metadata": {},
   "outputs": [],
   "source": [
    "def payment():\n",
    "    global order_list\n",
    "    payment_method = input('결제방식을 입력해주세요(1. card / 2. cash) : ')\n",
    "    table_num = int(input('테이블 번호를 입력해주세요.(ex : 1 ) : '))\n",
    "    \n",
    "    if table_num > 0:\n",
    "        print('주문한 음식 : ',order_list)\n",
    "        print('총비용 : ',sum(list(order_list.values())),\"원\")\n",
    "        \n",
    "        if payment_method == '1':\n",
    "            print('결제가 완료되었습니다.')\n",
    "        \n",
    "        elif payment_method == '2':\n",
    "            while True:\n",
    "                cash = int(input('금액을 투입해주세요 : '))\n",
    "                if cash < sum(list(order_list.values())):\n",
    "                    print(\"금액추가 필요 다시 금액을 투입해주세요\")\n",
    "                else:\n",
    "                    print('거스름돈 : ', cash - sum(list(order_list.values())),' 원')\n",
    "                    break\n",
    "        else:\n",
    "            print('오류')\n",
    "            \n",
    "            "
   ]
  },
  {
   "cell_type": "code",
   "execution_count": 10,
   "id": "be53dcf4",
   "metadata": {},
   "outputs": [
    {
     "name": "stdout",
     "output_type": "stream",
     "text": [
      "결제방식을 입력해주세요(1. card / 2. cash) : 1\n",
      "테이블 번호를 입력해주세요.(ex : 1 ) : 1\n",
      "주문한 음식 :  {'자장면': 5000, '짬뽕': 6000}\n",
      "총비용 :  11000 원\n",
      "결제가 완료되었습니다.\n"
     ]
    }
   ],
   "source": [
    "payment()"
   ]
  },
  {
   "cell_type": "code",
   "execution_count": null,
   "id": "c8eea5ce",
   "metadata": {},
   "outputs": [
    {
     "name": "stdout",
     "output_type": "stream",
     "text": [
      "mode select (1. 관리자모드 / 2. 주문모드 / 3. 결제모드): 3\n",
      "결제방식을 입력해주세요(1. card / 2. cash) : 1\n",
      "테이블 번호를 입력해주세요.(ex : 1 ) : 1\n"
     ]
    }
   ],
   "source": [
    "import sys\n",
    "\n",
    "mode_select = input('mode select (1. 관리자모드 / 2. 주문모드 / 3. 결제모드): ')\n",
    "if mode_select == '1':\n",
    "    admin_mode()\n",
    "elif mode_select == '2':\n",
    "    order_mode()\n",
    "elif mode_select == '3':\n",
    "    sys.stdout = open('list_pay.txt', 'a')\n",
    "    payment()\n",
    "    sys.stdout.close()"
   ]
  },
  {
   "cell_type": "code",
   "execution_count": null,
   "id": "546aec2b",
   "metadata": {},
   "outputs": [],
   "source": []
  },
  {
   "cell_type": "code",
   "execution_count": null,
   "id": "8b4e4874",
   "metadata": {},
   "outputs": [],
   "source": []
  },
  {
   "cell_type": "code",
   "execution_count": 25,
   "id": "6265dd0a",
   "metadata": {},
   "outputs": [],
   "source": [
    "# genres = [\"classic\", \"pop\", \"classic\", \"classic\", \"pop\"]\n",
    "# plays = [500, 600, 150, 800, 2500]\n",
    "# playDic = {}\n",
    "\n",
    "# for i in range(len(genres)):\n",
    "#    playDic[genres[i]] = playDic.get(genres[i], 0) + plays[i]\n",
    "\n",
    "# playDic"
   ]
  },
  {
   "cell_type": "code",
   "execution_count": 26,
   "id": "08707b7f",
   "metadata": {},
   "outputs": [
    {
     "data": {
      "text/plain": [
       "{'classic': 1450, 'pop': 3100}"
      ]
     },
     "execution_count": 26,
     "metadata": {},
     "output_type": "execute_result"
    }
   ],
   "source": [
    "# playDic"
   ]
  },
  {
   "cell_type": "code",
   "execution_count": null,
   "id": "a5617116",
   "metadata": {},
   "outputs": [],
   "source": []
  },
  {
   "cell_type": "code",
   "execution_count": null,
   "id": "6f0ebc70",
   "metadata": {},
   "outputs": [],
   "source": []
  },
  {
   "cell_type": "code",
   "execution_count": null,
   "id": "4767d535",
   "metadata": {},
   "outputs": [],
   "source": []
  }
 ],
 "metadata": {
  "kernelspec": {
   "display_name": "Python 3",
   "language": "python",
   "name": "python3"
  },
  "language_info": {
   "codemirror_mode": {
    "name": "ipython",
    "version": 3
   },
   "file_extension": ".py",
   "mimetype": "text/x-python",
   "name": "python",
   "nbconvert_exporter": "python",
   "pygments_lexer": "ipython3",
   "version": "3.8.8"
  }
 },
 "nbformat": 4,
 "nbformat_minor": 5
}
