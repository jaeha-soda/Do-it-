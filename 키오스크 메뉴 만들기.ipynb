{
 "cells": [
  {
   "cell_type": "markdown",
   "id": "8435ee34",
   "metadata": {},
   "source": [
    "1. 코드 작성 제약 조건 분석\n",
    "- 시나리오 중 코드에 작성되어야 조건 분석하여 정리"
   ]
  },
  {
   "cell_type": "code",
   "execution_count": 4,
   "id": "48f1a0c0",
   "metadata": {},
   "outputs": [],
   "source": [
    "# 초기화\n",
    "menu = {'자장면': 5000, '짬뽕': 6000, '볶음밥' : 6000, '탕수육' :10000}"
   ]
  },
  {
   "cell_type": "markdown",
   "id": "d17b64bd",
   "metadata": {},
   "source": [
    "#### 관리자 모드"
   ]
  },
  {
   "cell_type": "code",
   "execution_count": 5,
   "id": "92f5ae31",
   "metadata": {},
   "outputs": [],
   "source": [
    "# 관리자 모드\n",
    "\n",
    "def admin_mode():\n",
    "    global menu\n",
    "    password = int(input(\"비밀번호를 입력하세요(4자리수) : \" ))\n",
    "    login_num = 1234\n",
    "    if password == login_num:\n",
    "        print('로그인 성공')\n",
    "    else:\n",
    "        print('로그인 실패')\n",
    "        return(0)\n",
    "\n",
    "    while True:\n",
    "        menu_modify = input(\"메뉴를 추가/삭제/수정 하시겠습니까? (1. 추가 2. 삭제 3. 수정 4. 나가기): \" )\n",
    "\n",
    "        if menu_modify == '1':\n",
    "            new_menu = input('추가할 메뉴 : ')\n",
    "            new_menu_price = int(input('추가할 메뉴의 가격(숫자만 입력하세요.) : '))\n",
    "            menu[new_menu] = new_menu_price\n",
    "            print(menu)\n",
    "\n",
    "        elif menu_modify  == '2':\n",
    "            del_menu = input('삭제할 메뉴 : ')\n",
    "            del menu[del_menu]\n",
    "            print(menu)\n",
    "\n",
    "        elif menu_modify == \"3\":\n",
    "            mod_menu = input('수정할 메뉴(원래 메뉴와 똑같이 입력) : ')\n",
    "            mod_price = int(input('수정할 메뉴의 수정 가격을 입력해주세요 : '))\n",
    "            menu[mod_menu] = mod_price\n",
    "            print(menu)\n",
    "        \n",
    "        elif menu_modify == \"4\":\n",
    "            break\n",
    "        \n",
    "        else:\n",
    "            print(\"입력 오류\")\n"
   ]
  },
  {
   "cell_type": "code",
   "execution_count": 6,
   "id": "83f316b2",
   "metadata": {},
   "outputs": [
    {
     "name": "stdout",
     "output_type": "stream",
     "text": [
      "비밀번호를 입력하세요(4자리수) : 1234\n",
      "로그인 성공\n",
      "메뉴를 추가/삭제/수정 하시겠습니까? (1. 추가 2. 삭제 3. 수정 4. 나가기): 4\n"
     ]
    }
   ],
   "source": [
    "admin_mode()"
   ]
  },
  {
   "cell_type": "markdown",
   "id": "cb721a22",
   "metadata": {},
   "source": [
    "#### 주문 시 "
   ]
  },
  {
   "cell_type": "code",
   "execution_count": 7,
   "id": "615206a7",
   "metadata": {},
   "outputs": [],
   "source": [
    "def order_mode():\n",
    "    global order_list, menu\n",
    "    print('Menu : ', menu)\n",
    "\n",
    "    order_list = {}\n",
    "    table_num = int(input('테이블 번호를 입력해주세요.(ex : 1 ) : '))\n",
    "\n",
    "    order = input('메뉴에서 주문 : ')\n",
    "    number =  int(input('수량을 입력해주세요:'))\n",
    "    order_list[order] =  order_list.get(order,0) + menu[order]*number\n",
    "    print(order_list)\n",
    "\n",
    "    while True:\n",
    "        menu_modify = input(\"메뉴를 추가/수정/선택종료 하시겠습니까? (1. 추가 2. 수정, 3. 선택종료) : \" ) \n",
    "\n",
    "        if menu_modify == '1':\n",
    "            order = input('메뉴에서 주문 : ')\n",
    "            number =  int(input('수량을 입력해주세요:'))\n",
    "            order_list[order] =  order_list.get(order,0) + menu[order]*number\n",
    "            print(order_list)\n",
    "\n",
    "        elif menu_modify  == '2':\n",
    "            del_menu = input('수정할 메뉴 : ')\n",
    "            number =  int(input('수량을 입력해주세요:'))\n",
    "            order_list[del_menu] =  order_list.get(del_menu,'python') - menu[del_menu]*number\n",
    "            \n",
    "        elif menu_modify == \"3\":\n",
    "            print(\"최종메뉴: \", order_list)\n",
    "            print(\"조금만 기다려주시면 준비 해드리겠습니다.\")\n",
    "            break\n",
    "        else:\n",
    "            print(\"입력오류\")\n",
    "            "
   ]
  },
  {
   "cell_type": "code",
   "execution_count": 8,
   "id": "43e8eee9",
   "metadata": {},
   "outputs": [
    {
     "name": "stdout",
     "output_type": "stream",
     "text": [
      "Menu :  {'자장면': 5000, '짬뽕': 6000, '볶음밥': 6000, '탕수육': 10000}\n",
      "테이블 번호를 입력해주세요.(ex : 1 ) : 1\n",
      "메뉴에서 주문 : 자장면\n",
      "수량을 입력해주세요:1\n",
      "{'자장면': 5000}\n",
      "메뉴를 추가/수정/선택종료 하시겠습니까? (1. 추가 2. 수정, 3. 선택종료) : 1\n",
      "메뉴에서 주문 : 짬뽕\n",
      "수량을 입력해주세요:1\n",
      "{'자장면': 5000, '짬뽕': 6000}\n",
      "메뉴를 추가/수정/선택종료 하시겠습니까? (1. 추가 2. 수정, 3. 선택종료) : 3\n",
      "최종메뉴:  {'자장면': 5000, '짬뽕': 6000}\n",
      "조금만 기다려주시면 준비 해드리겠습니다.\n"
     ]
    }
   ],
   "source": [
    "order_mode()"
   ]
  },
  {
   "cell_type": "markdown",
   "id": "6a4d3f02",
   "metadata": {},
   "source": [
    "### order_list"
   ]
  },
  {
   "cell_type": "markdown",
   "id": "830ed9fd",
   "metadata": {},
   "source": [
    "####  결제 시"
   ]
  },
  {
   "cell_type": "code",
   "execution_count": 9,
   "id": "9f68f5b3",
   "metadata": {},
   "outputs": [],
   "source": [
    "def payment():\n",
    "    global order_list\n",
    "    payment_method = input('결제방식을 입력해주세요(1. card / 2. cash) : ')\n",
    "    table_num = int(input('테이블 번호를 입력해주세요.(ex : 1 ) : '))\n",
    "    \n",
    "    if table_num > 0:\n",
    "        print('주문한 음식 : ',order_list)\n",
    "        print('총비용 : ',sum(list(order_list.values())),\"원\")\n",
    "        \n",
    "        if payment_method == '1':\n",
    "            print('결제가 완료되었습니다.')\n",
    "        \n",
    "        elif payment_method == '2':\n",
    "            while True:\n",
    "                cash = int(input('금액을 투입해주세요 : '))\n",
    "                if cash < sum(list(order_list.values())):\n",
    "                    print(\"금액추가 필요 다시 금액을 투입해주세요\")\n",
    "                else:\n",
    "                    print('거스름돈 : ', cash - sum(list(order_list.values())),' 원')\n",
    "                    break\n",
    "        else:\n",
    "            print('오류')\n",
    "            \n",
    "            "
   ]
  },
  {
   "cell_type": "code",
   "execution_count": 10,
   "id": "be53dcf4",
   "metadata": {},
   "outputs": [
    {
     "name": "stdout",
     "output_type": "stream",
     "text": [
      "결제방식을 입력해주세요(1. card / 2. cash) : 1\n",
      "테이블 번호를 입력해주세요.(ex : 1 ) : 1\n",
      "주문한 음식 :  {'자장면': 5000, '짬뽕': 6000}\n",
      "총비용 :  11000 원\n",
      "결제가 완료되었습니다.\n"
     ]
    }
   ],
   "source": [
    "payment()"
   ]
  },
  {
   "cell_type": "code",
   "execution_count": null,
   "id": "c8eea5ce",
   "metadata": {},
   "outputs": [
    {
     "name": "stdout",
     "output_type": "stream",
     "text": [
      "mode select (1. 관리자모드 / 2. 주문모드 / 3. 결제모드): 3\n",
      "결제방식을 입력해주세요(1. card / 2. cash) : 1\n",
      "테이블 번호를 입력해주세요.(ex : 1 ) : 1\n"
     ]
    }
   ],
   "source": [
    "import sys\n",
    "\n",
    "mode_select = input('mode select (1. 관리자모드 / 2. 주문모드 / 3. 결제모드): ')\n",
    "if mode_select == '1':\n",
    "    admin_mode()\n",
    "elif mode_select == '2':\n",
    "    order_mode()\n",
    "elif mode_select == '3':\n",
    "    sys.stdout = open('list_pay.txt', 'a')\n",
    "    payment()\n",
    "    sys.stdout.close()"
   ]
  },
  {
   "cell_type": "code",
   "execution_count": null,
   "id": "546aec2b",
   "metadata": {},
   "outputs": [],
   "source": []
  },
  {
   "cell_type": "code",
   "execution_count": null,
   "id": "8b4e4874",
   "metadata": {},
   "outputs": [],
   "source": []
  },
  {
   "cell_type": "code",
   "execution_count": 25,
   "id": "6265dd0a",
   "metadata": {},
   "outputs": [],
   "source": [
    "# genres = [\"classic\", \"pop\", \"classic\", \"classic\", \"pop\"]\n",
    "# plays = [500, 600, 150, 800, 2500]\n",
    "# playDic = {}\n",
    "\n",
    "# for i in range(len(genres)):\n",
    "#    playDic[genres[i]] = playDic.get(genres[i], 0) + plays[i]\n",
    "\n",
    "# playDic"
   ]
  },
  {
   "cell_type": "code",
   "execution_count": 26,
   "id": "08707b7f",
   "metadata": {},
   "outputs": [
    {
     "data": {
      "text/plain": [
       "{'classic': 1450, 'pop': 3100}"
      ]
     },
     "execution_count": 26,
     "metadata": {},
     "output_type": "execute_result"
    }
   ],
   "source": [
    "# playDic"
   ]
  },
  {
   "cell_type": "code",
   "execution_count": null,
   "id": "a5617116",
   "metadata": {},
   "outputs": [],
   "source": []
  },
  {
   "cell_type": "code",
   "execution_count": null,
   "id": "6f0ebc70",
   "metadata": {},
   "outputs": [],
   "source": []
  },
  {
   "cell_type": "code",
   "execution_count": null,
   "id": "4767d535",
   "metadata": {},
   "outputs": [],
   "source": []
  }
 ],
 "metadata": {
  "kernelspec": {
   "display_name": "Python 3",
   "language": "python",
   "name": "python3"
  },
  "language_info": {
   "codemirror_mode": {
    "name": "ipython",
    "version": 3
   },
   "file_extension": ".py",
   "mimetype": "text/x-python",
   "name": "python",
   "nbconvert_exporter": "python",
   "pygments_lexer": "ipython3",
   "version": "3.8.8"
  }
 },
 "nbformat": 4,
 "nbformat_minor": 5
}



### 코드설명

함수로 만들어야 하니까 def 이름(): 해준 뒤에 들여쓰기를 전부해줌. (그래야 함수가 작동)

 def 안에 global menu를 지정함으로서 함수 안에서도 menu를 쓸 수 있음 (gloabl 은 전역변수 개념이라 안팎전체긴 함.)  

if-else 구문에서 return 0을 줌으로서 제로값을 반환함 (사실 없어도 무방할 듯.)

if 가 참이면 값이 참임으로 while True: 를 if문 아래에서 돌릴 수 있음.

추가할 메뉴 : 가격 각각 인풋으로 받아서 메뉴 딕셔너리에 각각 저장함.
menu[new_menu] = new_menu_price

업데이트된 menu를 출력해줬음. print(menu)

삭제할 메뉴는 del 개념으로 삭제해줌. del menu[del_menu]

업데이트된 menu는 마찬가지로 출력해줬음 print(menu)

수정할 메뉴 - 가격을(근데 이게 쓰다보니 추가도 됨)

마찬가지로 input() int(input())으로 각각 받아줬음 

마찬가지로 딕셔너리 개념으로 업데이트(수정)함. menu[mod_mdeu] = mod_price

while True: 가 계속 돌아가면 곤란하기 때문에 elif 중에 특정값을 입력해서 break 해줬음.

숫자 에러나면 else:쳐서 입력오류 뜨게 만듬(그냥 표기용) 어차피 숫자 에러나면 while문 안이어서 계속 돌아감 (계속돌아가는 것을 표기하기위해 표기를 해준것임).




menu와 order_list (계속 사용할 변수)를 global처리해줌. (전역변수처리해줌)  menu와 order_list는 계속 주문함수 안에서 계속 써야하기 때문.

order_list = dict() 빈 딕셔너리 형태로 만들어줌. 입력을 받아야 하기 때문.

order_list에 넣을 메뉴- 수량 order – number를 만들어줌.

처음에 menu[order]*number만 해줬는데 이러면 문제점이 추가주문이 안됨.

추가주문을 하기 위해서는 order_list.get(order,0)이 필요함. 

0으로 지정한 이유는 초기값을 0으로 가져와야 추가주문이 가능하기 때문 : get으로 value값을 0으로 초기값을 지정해줌과 동시에 menu[order]*number 로 가격을 줌으로서 메뉴 : 가격 표가 완성될 수 있었음.

두 번째 elif (2. 수정) 도 마찬가지로 메뉴와 수량을 입력해야함.
order_list[‘메뉴이름’] = 0 – 가격*수량을 입력함으로서 기존에 있던 메뉴를 수정할 수 있음.

최종메뉴는 반복문에서 실행한 또는 고치지 않은 상태에서 메뉴를 출력함 order_list 출력해준뒤에 break 문 써주면 order_list 도 최종상태로 마무리 됨.

마찬가지로 반복문에서 에러값 넣으면 else: print(‘오류’) 처리해줬음.

결제시도 마찬가지로 함수사용하니까 def payment(): 나머지 들여쓰기 해줌.
함수내에서 order_list를 이용해야 하니까 global order_list 처리해줌. 
결제방식, 테이블번호를 입력함.

테이블 번호가 있어야 결제가 되는 프로그램을 짜야하기 때문에 table_num > 0 으로 설정함. 그래서 그 if문 아래서 위에서 order_list ( 메뉴-가격, 메뉴-가격 ..)를 출력하고 좀 더 명료하게 하기 위해 총비용 sum(list(order_list.values()))를 출력해줬음.

앞서 말했듯 테이블 넘버가 참이어야 그 다음에 결제를 할 수 있음으로 if 문 아래에 if문 들여써주기를 해주었음. if payment_method == ‘1’이면 결제가 완료 (카드면 그냥 완료처리 해주면 끝나기 때문임.)

그 반대로 현금모드에서는 메뉴 가격 금액을 충족시켜 줘야 하기 때문에 elif안에 while True 반복문을 써줬음. 계속해서 반복해서 

참이면(반복문 내에서,) 
cash = int(input(‘금액투입: ’)) 해준뒤 

현금 < 총 금액 
cash < sum(list(order_list.values))  이면 반복문을 종료 하면 안됨 cash가 총금액을 충족하지 못하고 오히려 더 작기 때문.

else는 처리해준 경우인데, 이 경우에는 거스름돈과 함께 캐쉬 종료를 해주면 좋다는 생각이 들었음.

그래서 cash – sum(list(order_list.values())를 해주었음. 나머지는 수식어(꾸밈어).

이중 if문 밖을 나와서, 현금도 카드도 아닌경우에는 오류임으로 오류 처리를 해줌. 근데 생각해보니 (결제가 안되었습니다.를 하는게 더 가독성 있을 듯 수식어. 근데 코드 자체에서 중요한건 아니니까 넘어감.)

마지막으로는 3개의 함수를 정리해줬음.

인풋에서 숫자를 입력받아서 1,2,3에 대한 각각의 함수호출(그냥함수이름 쓰면 되니까) 해줌.

단, 결제모드는 파일형태(.txt)형태로 저장이 되어야 함.

elif 안에 파일을 오픈하고 확장(쓰기+확장)인 ‘a’모드를 사용. 계속 들여쓰기 결제함수 payment()도 추가. 그리고 파일 닫기 모드 sys.stdout.close()를 사용해줌.
 
